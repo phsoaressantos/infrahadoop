{
  "nbformat": 4,
  "nbformat_minor": 0,
  "metadata": {
    "colab": {
      "provenance": [],
      "collapsed_sections": [],
      "authorship_tag": "ABX9TyN24yLI+HkFBxBtWyeaf5Gg",
      "include_colab_link": true
    },
    "kernelspec": {
      "name": "python3",
      "display_name": "Python 3"
    },
    "language_info": {
      "name": "python"
    }
  },
  "cells": [
    {
      "cell_type": "markdown",
      "metadata": {
        "id": "view-in-github",
        "colab_type": "text"
      },
      "source": [
        "<a href=\"https://colab.research.google.com/github/phsoaressantos/infrahadoop/blob/main/Projeto_Infra_Hadoop.ipynb\" target=\"_parent\"><img src=\"https://colab.research.google.com/assets/colab-badge.svg\" alt=\"Open In Colab\"/></a>"
      ]
    },
    {
      "cell_type": "markdown",
      "source": [
        "<center>\n",
        "<img src=\"https://blog.infnet.com.br/wp-content/uploads/sites/50/2021/12/Substituir-Pexels-by-Anna-2048x1365.jpg\" width=\"300\" alt=\"cognitiveclass.ai logo\" />\n",
        "</center>"
      ],
      "metadata": {
        "id": "qR8ChkHBESYC"
      }
    },
    {
      "cell_type": "markdown",
      "source": [
        "#**Pós Graduação em Engenharia de Dados: Big Data**\n",
        "\n",
        "#**Projeto conclusão curso: Infra Hadoop**\n",
        "\n",
        "Autor: Paulo Henrique Soares dos Santos\n",
        "\n"
      ],
      "metadata": {
        "id": "BsK-oauqDs_S"
      }
    },
    {
      "cell_type": "markdown",
      "source": [
        "#**Dados**\n",
        "\n",
        "## Visão geral dos dados\n",
        "\n",
        "- Tabela Exportação:\n",
        "\n",
        "CO_ANO = Year\n",
        "\n",
        "CO_MES = Month\n",
        "\n",
        "CO_NCM = NCM (Code description of the product - Mercosul Common Nomeclature)\n",
        "\n",
        "CO_UNID = Statistics Unity Code\n",
        "\n",
        "CO_PAIS = Code of the Destination Country\n",
        "\n",
        "SG_UF_NCM = UF Code of the product origin\n",
        "\n",
        "CO_VIA = Via of Transportation Code\n",
        "\n",
        "CO_URF= URF Code of Embark and Disembark\n",
        "\n",
        "QT_ESTAT = Statistic Unity\n",
        "\n",
        "KG_LIQUIDO = Liquid Kg\n",
        "\n",
        "VL_FOB = Value of Transaction (FOB Dolar US$)\n",
        "\n",
        "\n",
        "- Tabela País:\n",
        "\n",
        "\n",
        "CO_PAIS = Country Code\n",
        "\n",
        "CO_PAIS_ISON3 = ISO 3 Country Code (Numerical)\n",
        "\n",
        "CO_PAIS_ISOA3 = ISO 3 Country Code (Letters)\n",
        "\n",
        "NO_PAIS = Country Name in Portugue (BR)\n",
        "\n",
        "NO_PAIS_ING = Country Name in English\n",
        "\n",
        "NO_PAIS_ESP = Country Name in Spanish\n",
        "\n",
        "##Contexto\n",
        "\n",
        "Este conjunto de dados é fornecido pelo Ministério da Indústria, Comércio Externo e Serviços do Brasil.\n",
        "\n",
        "Neste site tem estatísticas de comércio exterior do Brasil. Que nos possibilita criar consultas detalhadas das exportações e importações brasileiras com as diversas variáveis da base de dados estatísticos.\n",
        "Site: http://comexstat.mdic.gov.br/\n",
        "\n",
        "Conteúdo\n",
        "\n",
        "Estes dados vão de 1997 a Julho/2020 e são actualizados mensalmente no website comex stat.*1\n",
        "Os dados são organizados pela NCM (Nomenclatura Comum para produtos de mercosul)\n",
        "\n",
        "\n",
        "## Fonte Dados\n",
        "\n",
        "Kaggle :\n",
        "\n",
        "1 tabela (exportacao): https://www.kaggle.com/datasets/marcelopesse/brazil-exportimport-information?select=EXP_COMPLETA.csv *1\n",
        "\n",
        "2 tabela (pais): https://www.kaggle.com/datasets/marcelopesse/brazil-exportimport-information?select=PAIS.csv\n",
        "\n",
        "*1 Editei o CSV original devido ao tempo de upload na GCP, editei ate a linha 1.048.575.\n",
        "\n"
      ],
      "metadata": {
        "id": "J8u9uynLNrjE"
      }
    },
    {
      "cell_type": "markdown",
      "source": [
        "#**Etapas do projeto** \n",
        "\n",
        "##Ambiente cloud\n",
        "  Cluster criado na GCP utilizando DATAPROC - Cluster no computer engine com as seguintes configurações:\n",
        "\n",
        "  *Nome: Cluster-b335-m\n",
        "\n",
        "  *Local: us-central1\n",
        "\n",
        "  *Tipo de Cluster: Padrão (1 mestre, N workers)\n",
        "\n",
        "  *Tipo e versão imagem: 2.0debian10\n",
        "\n",
        "  *Componentes adicionais: Todos, exceto Jupyter notebook\n",
        "\n",
        "##Carga dados utilizando upload nativo\n",
        "\n",
        "## Adcionando arquivos no HDFS\n",
        "hdfs dfs -put PAIS.csv\n",
        "\n",
        "hdfs dfs -put EXP_COMPLETA_2.csv\n",
        "\n",
        "#**Hive**\n",
        "##Acessando Hive\n",
        " #entrando no hive beeline, funcionou melhor e sem logs\n",
        "\n",
        "beeline -u jdbc:hive2://localhost:10000/default -n paulo_hssantos@cluster-b335-m -d org.apache.hive.jdbc.HiveDriver\n",
        "\n",
        "## Criando database trabalho:\n",
        "  create database trabalho;\n",
        "\n",
        "  use trabalho;\n",
        "\n",
        " #confere a criacao e utilização do db correto:\n",
        "\n",
        "  show databases;\n",
        "\n",
        "##Criando a minha TABELA COM EXPORTACAO 2\n",
        "\n",
        "CREATE EXTERNAL TABLE exportacao(CO_ANO STRING, CO_MES INT, CO_NCM INT, CO_UNID INT, CO_PAIS STRING, SG_UF_NCM STRING, CO_VIA INT, CO_URF STRING, QT_ESTAT INT, KG_LIQUIDO INT, VL_FOB INT) \n",
        "ROW FORMAT DELIMITED\n",
        "FIELDS TERMINATED BY ','\n",
        "STORED AS TEXTFILE;\n",
        "\n",
        "  #conferindo tabela criada:\n",
        "\n",
        "  show tables;\n",
        "\n",
        "  describe exportacao;\n",
        "\n",
        "##Criando a tabela pais\n",
        "CREATE EXTERNAL TABLE pais(CO_PAIS STRING, CO_PAIS_ISON3 STRING, CO_PAIS_ISOA3 STRING, NO_PAIS STRING, NO_PAIS_ING STRING, NO_PAIS_ESP STRING) \n",
        "ROW FORMAT DELIMITED\n",
        "FIELDS TERMINATED BY ';'\n",
        "STORED AS TEXTFILE;\n",
        "\n",
        "  #conferindo tabela criada:\n",
        "\n",
        "  show tables;\n",
        "\n",
        "  describe pais;\n",
        "\n",
        "# Entrando com os dados nas tabelas pais e exportacao: também!\n",
        "\n",
        "LOAD DATA INPATH '/user/paulo_hssantos/EXP_COMPLETA_2.csv' overwrite into table exportacao;\n",
        "\n",
        "LOAD DATA INPATH '/user/paulo_hssantos/PAIS.csv' overwrite into table pais;\n",
        "\n"
      ],
      "metadata": {
        "id": "jbXo1NzQyChU"
      }
    },
    {
      "cell_type": "markdown",
      "source": [
        "# Análise de dados\n",
        "\n",
        "## Perguntas analiticas e respectivas consultas SQL:\n",
        "\n",
        "1- Média de exportações por país de destino:\n",
        "\n",
        "select co_pais, (SUM(VL_FOB)/COUNT(*)) AS CO_PAIS FROM trabalho.exportacao group by co_pais order by CO_PAIS;\n",
        "\n",
        "2- Valor total de exportações em todo período analisado, agrupados por país de destino:\n",
        "\n",
        "SELECT exportacao.CO_PAIS, NO_PAIS, SUM(VL_FOB)  from exportacao inner join pais on exportacao.CO_PAIS = pais.CO_PAIS group by NO_PAIS order by SUM(VL_FOB) desc;\n",
        "\n",
        "3- Soma total de exportação por estado brasileiro;\n",
        "\n",
        "SELECT SG_UF_NCM, SUM(VL_FOB) FROM trabalho.exportacao group by SG_UF_NCM;\n",
        "\n",
        "\n",
        "4- Numero de exportações por estado brasileiro em ordem descendente;\n",
        "\n",
        "select SG_UF_NCM,COUNT(*) AS numero_de_exportacoes from trabalho.exportacao GROUP BY SG_UF_NCM ORDER BY numero_de_exportacoes desc;\n",
        "\n",
        "5- Os 100 primeiros Codigos NCM mais exportados nesta amostra de dados, ordenado por valor total. Informamos também a quantidade de exportações por NCM na coluna Numero Exportações.\n",
        "\n",
        "\n",
        "SELECT CO_ANO, CO_NCM, SUM(VL_FOB) as TOTAL, count(*)as Numero_Exportacoes\n",
        "FROM trabalho.exportacao\n",
        "group by CO_ANO, CO_NCM \n",
        "order by SUM(VL_FOB) DESC\n",
        "limit 100\n",
        ";\n",
        "\n"
      ],
      "metadata": {
        "id": "nGShePlC2_Gs"
      }
    },
    {
      "cell_type": "markdown",
      "source": [
        "#Linguagens e ferramentas utilizadas no projeto:\n",
        "\n",
        "<p align=\"left\">\n",
        "<a href=\"https://cloud.google.com\" target=\"_blank\" rel=\"noreferrer\"> <img src=\"https://www.vectorlogo.zone/logos/google_cloud/google_cloud-icon.svg\" alt=\"gcp\" width=\"40\" height=\"40\"/> </a>\n",
        "<a href=\"https://hadoop.apache.org/\" target=\"_blank\" rel=\"noreferrer\"> <img src=\"https://www.vectorlogo.zone/logos/apache_hadoop/apache_hadoop-icon.svg\" alt=\"hadoop\" width=\"40\" height=\"40\"/>\n",
        "</a> <a href=\"https://hive.apache.org/\" target=\"_blank\" rel=\"noreferrer\"> <img src=\"https://www.vectorlogo.zone/logos/apache_hive/apache_hive-icon.svg\" alt=\"hive\" width=\"40\" height=\"40\"/>\n",
        "</a> <a href=\"https://www.mysql.com/\" target=\"_blank\" rel=\"noreferrer\"> <img src=\"https://raw.githubusercontent.com/devicons/devicon/master/icons/mysql/mysql-original-wordmark.svg\" alt=\"mysql\" width=\"40\" height=\"40\"/> </a>  \n",
        "</p>"
      ],
      "metadata": {
        "id": "8nUKMCJfxDkb"
      }
    },
    {
      "cell_type": "markdown",
      "source": [
        "# Contato: \n",
        "\n",
        "📧 paulosantos@id.uff.br"
      ],
      "metadata": {
        "id": "_4MD7e1KxQcs"
      }
    },
    {
      "cell_type": "code",
      "source": [],
      "metadata": {
        "id": "SAOsSsyVU28q"
      },
      "execution_count": null,
      "outputs": []
    }
  ]
}